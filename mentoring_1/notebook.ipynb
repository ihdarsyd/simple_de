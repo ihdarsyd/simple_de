{
 "cells": [
  {
   "cell_type": "code",
   "execution_count": 1,
   "metadata": {},
   "outputs": [],
   "source": [
    "import pandas as pd"
   ]
  },
  {
   "cell_type": "code",
   "execution_count": 2,
   "metadata": {},
   "outputs": [],
   "source": [
    "# open .tsv file\n",
    "df = pd.read_csv(\"listing_data.tsv\", sep='\\t')\n"
   ]
  },
  {
   "cell_type": "code",
   "execution_count": 3,
   "metadata": {},
   "outputs": [
    {
     "data": {
      "text/html": [
       "<div>\n",
       "<style scoped>\n",
       "    .dataframe tbody tr th:only-of-type {\n",
       "        vertical-align: middle;\n",
       "    }\n",
       "\n",
       "    .dataframe tbody tr th {\n",
       "        vertical-align: top;\n",
       "    }\n",
       "\n",
       "    .dataframe thead th {\n",
       "        text-align: right;\n",
       "    }\n",
       "</style>\n",
       "<table border=\"1\" class=\"dataframe\">\n",
       "  <thead>\n",
       "    <tr style=\"text-align: right;\">\n",
       "      <th></th>\n",
       "      <th>title</th>\n",
       "      <th>price</th>\n",
       "      <th>listing_url</th>\n",
       "      <th>location</th>\n",
       "      <th>installment</th>\n",
       "      <th>posted_time</th>\n",
       "      <th>year</th>\n",
       "      <th>lower_km</th>\n",
       "      <th>upper_km</th>\n",
       "    </tr>\n",
       "  </thead>\n",
       "  <tbody>\n",
       "    <tr>\n",
       "      <th>0</th>\n",
       "      <td>[OLXmobbi] Honda Civic 1.5 E Hatchback Bensin-...</td>\n",
       "      <td>372000000</td>\n",
       "      <td>https://olx.co.id/olxmobbi/item/olxmobbi-honda...</td>\n",
       "      <td>Pesanggrahan</td>\n",
       "      <td>8400000.0</td>\n",
       "      <td>25 Jun</td>\n",
       "      <td>2019.0</td>\n",
       "      <td>40000.0</td>\n",
       "      <td>45000.0</td>\n",
       "    </tr>\n",
       "    <tr>\n",
       "      <th>1</th>\n",
       "      <td>[OLXmobbi] Honda Civic 2.0 FB3 Bensin-AT 2015 ...</td>\n",
       "      <td>209000000</td>\n",
       "      <td>https://olx.co.id/olxmobbi/item/olxmobbi-honda...</td>\n",
       "      <td>Cilandak</td>\n",
       "      <td>4700000.0</td>\n",
       "      <td>25 Jun</td>\n",
       "      <td>2015.0</td>\n",
       "      <td>105000.0</td>\n",
       "      <td>110000.0</td>\n",
       "    </tr>\n",
       "    <tr>\n",
       "      <th>2</th>\n",
       "      <td>[OLXmobbi] Honda Civic 1.5 ES Bensin-AT 2016 P...</td>\n",
       "      <td>260000000</td>\n",
       "      <td>https://olx.co.id/olxmobbi/item/olxmobbi-honda...</td>\n",
       "      <td>Cilandak</td>\n",
       "      <td>5800000.0</td>\n",
       "      <td>25 Jun</td>\n",
       "      <td>2016.0</td>\n",
       "      <td>NaN</td>\n",
       "      <td>85000.0</td>\n",
       "    </tr>\n",
       "    <tr>\n",
       "      <th>3</th>\n",
       "      <td>[OLXmobbi] Honda Civic 1.5 E Hatchback Bensin-...</td>\n",
       "      <td>351000000</td>\n",
       "      <td>https://olx.co.id/olxmobbi/item/olxmobbi-honda...</td>\n",
       "      <td>Kebayoran Lama</td>\n",
       "      <td>7900000.0</td>\n",
       "      <td>25 Jun</td>\n",
       "      <td>2018.0</td>\n",
       "      <td>40000.0</td>\n",
       "      <td>45000.0</td>\n",
       "    </tr>\n",
       "    <tr>\n",
       "      <th>4</th>\n",
       "      <td>Honda Civic FB3 2.0 2014 Mint Condition</td>\n",
       "      <td>173000000</td>\n",
       "      <td>https://olx.co.id/olxmobbi/item/honda-civic-fb...</td>\n",
       "      <td>Cilandak</td>\n",
       "      <td>0.0</td>\n",
       "      <td>15 Mei</td>\n",
       "      <td>2014.0</td>\n",
       "      <td>95000.0</td>\n",
       "      <td>100000.0</td>\n",
       "    </tr>\n",
       "  </tbody>\n",
       "</table>\n",
       "</div>"
      ],
      "text/plain": [
       "                                               title      price  \\\n",
       "0  [OLXmobbi] Honda Civic 1.5 E Hatchback Bensin-...  372000000   \n",
       "1  [OLXmobbi] Honda Civic 2.0 FB3 Bensin-AT 2015 ...  209000000   \n",
       "2  [OLXmobbi] Honda Civic 1.5 ES Bensin-AT 2016 P...  260000000   \n",
       "3  [OLXmobbi] Honda Civic 1.5 E Hatchback Bensin-...  351000000   \n",
       "4            Honda Civic FB3 2.0 2014 Mint Condition  173000000   \n",
       "\n",
       "                                         listing_url        location  \\\n",
       "0  https://olx.co.id/olxmobbi/item/olxmobbi-honda...    Pesanggrahan   \n",
       "1  https://olx.co.id/olxmobbi/item/olxmobbi-honda...        Cilandak   \n",
       "2  https://olx.co.id/olxmobbi/item/olxmobbi-honda...        Cilandak   \n",
       "3  https://olx.co.id/olxmobbi/item/olxmobbi-honda...  Kebayoran Lama   \n",
       "4  https://olx.co.id/olxmobbi/item/honda-civic-fb...        Cilandak   \n",
       "\n",
       "   installment posted_time    year  lower_km  upper_km  \n",
       "0    8400000.0      25 Jun  2019.0   40000.0   45000.0  \n",
       "1    4700000.0      25 Jun  2015.0  105000.0  110000.0  \n",
       "2    5800000.0      25 Jun  2016.0       NaN   85000.0  \n",
       "3    7900000.0      25 Jun  2018.0   40000.0   45000.0  \n",
       "4          0.0      15 Mei  2014.0   95000.0  100000.0  "
      ]
     },
     "execution_count": 3,
     "metadata": {},
     "output_type": "execute_result"
    }
   ],
   "source": [
    "df.head()"
   ]
  },
  {
   "cell_type": "code",
   "execution_count": null,
   "metadata": {},
   "outputs": [],
   "source": []
  }
 ],
 "metadata": {
  "kernelspec": {
   "display_name": "Python 3",
   "language": "python",
   "name": "python3"
  },
  "language_info": {
   "codemirror_mode": {
    "name": "ipython",
    "version": 3
   },
   "file_extension": ".py",
   "mimetype": "text/x-python",
   "name": "python",
   "nbconvert_exporter": "python",
   "pygments_lexer": "ipython3",
   "version": "3.11.9"
  }
 },
 "nbformat": 4,
 "nbformat_minor": 2
}
